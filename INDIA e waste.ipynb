{
 "cells": [
  {
   "cell_type": "code",
   "execution_count": 1,
   "metadata": {},
   "outputs": [],
   "source": [
    "import pandas as pd\n",
    "import numpy as np\n",
    "import matplotlib.pyplot as plt\n",
    "from sklearn.linear_model import LinearRegression,Ridge,ElasticNet"
   ]
  },
  {
   "cell_type": "code",
   "execution_count": 2,
   "metadata": {},
   "outputs": [],
   "source": [
    "df=pd.read_csv(\"C:\\\\Users\\\\swast\\\\Desktop\\\\tcs sustainathon\\\\E WASTE INDIA.csv\")"
   ]
  },
  {
   "cell_type": "code",
   "execution_count": 3,
   "metadata": {},
   "outputs": [
    {
     "data": {
      "text/html": [
       "<div>\n",
       "<style scoped>\n",
       "    .dataframe tbody tr th:only-of-type {\n",
       "        vertical-align: middle;\n",
       "    }\n",
       "\n",
       "    .dataframe tbody tr th {\n",
       "        vertical-align: top;\n",
       "    }\n",
       "\n",
       "    .dataframe thead th {\n",
       "        text-align: right;\n",
       "    }\n",
       "</style>\n",
       "<table border=\"1\" class=\"dataframe\">\n",
       "  <thead>\n",
       "    <tr style=\"text-align: right;\">\n",
       "      <th></th>\n",
       "      <th>year</th>\n",
       "      <th>ewaste(MT)</th>\n",
       "    </tr>\n",
       "  </thead>\n",
       "  <tbody>\n",
       "    <tr>\n",
       "      <th>0</th>\n",
       "      <td>2007.0</td>\n",
       "      <td>332979.0</td>\n",
       "    </tr>\n",
       "    <tr>\n",
       "      <th>1</th>\n",
       "      <td>2009.0</td>\n",
       "      <td>402905.0</td>\n",
       "    </tr>\n",
       "    <tr>\n",
       "      <th>2</th>\n",
       "      <td>2011.0</td>\n",
       "      <td>487515.0</td>\n",
       "    </tr>\n",
       "    <tr>\n",
       "      <th>3</th>\n",
       "      <td>2013.0</td>\n",
       "      <td>589893.0</td>\n",
       "    </tr>\n",
       "    <tr>\n",
       "      <th>4</th>\n",
       "      <td>2015.0</td>\n",
       "      <td>713770.0</td>\n",
       "    </tr>\n",
       "    <tr>\n",
       "      <th>5</th>\n",
       "      <td>2017.0</td>\n",
       "      <td>863662.0</td>\n",
       "    </tr>\n",
       "    <tr>\n",
       "      <th>6</th>\n",
       "      <td>2019.0</td>\n",
       "      <td>1045031.0</td>\n",
       "    </tr>\n",
       "  </tbody>\n",
       "</table>\n",
       "</div>"
      ],
      "text/plain": [
       "     year  ewaste(MT)\n",
       "0  2007.0    332979.0\n",
       "1  2009.0    402905.0\n",
       "2  2011.0    487515.0\n",
       "3  2013.0    589893.0\n",
       "4  2015.0    713770.0\n",
       "5  2017.0    863662.0\n",
       "6  2019.0   1045031.0"
      ]
     },
     "execution_count": 3,
     "metadata": {},
     "output_type": "execute_result"
    }
   ],
   "source": [
    "df"
   ]
  },
  {
   "cell_type": "code",
   "execution_count": 4,
   "metadata": {},
   "outputs": [],
   "source": [
    "x=list(df.iloc[:,0])\n",
    "y=list(df.iloc[:,1])\n",
    "x_train=df.iloc[:,0].values.reshape(-1,1)\n",
    "y_train=df.iloc[:,1].values.reshape(-1,1)"
   ]
  },
  {
   "cell_type": "code",
   "execution_count": 5,
   "metadata": {},
   "outputs": [
    {
     "data": {
      "text/plain": [
       "Text(0, 0.5, 'E-waste in Metric tonnes')"
      ]
     },
     "execution_count": 5,
     "metadata": {},
     "output_type": "execute_result"
    },
    {
     "data": {
      "image/png": "[encoded data removed]",
      "text/plain": [
       "<Figure size 432x288 with 1 Axes>"
      ]
     },
     "metadata": {
      "needs_background": "light"
     },
     "output_type": "display_data"
    }
   ],
   "source": [
    "plt.scatter(x,y,marker='P',color='BLACK')\n",
    "plt.xlabel(\"year\")\n",
    "plt.ylabel(\"E-waste in Metric tonnes\")"
   ]
  },
  {
   "cell_type": "code",
   "execution_count": 6,
   "metadata": {},
   "outputs": [
    {
     "data": {
      "image/png": "[encoded data removed]",
      "text/plain": [
       "<Figure size 432x288 with 1 Axes>"
      ]
     },
     "metadata": {
      "needs_background": "light"
     },
     "output_type": "display_data"
    }
   ],
   "source": [
    "plt.plot(x,y,marker='o',mfc='red')\n",
    "plt.xlabel(\"year\")\n",
    "plt.ylabel(\"E-waste in Metric tonnes\")\n",
    "plt.show()"
   ]
  },
  {
   "cell_type": "code",
   "execution_count": 7,
   "metadata": {},
   "outputs": [
    {
     "data": {
      "text/plain": [
       "Text(0, 0.5, 'E-waste in metric tonnes')"
      ]
     },
     "execution_count": 7,
     "metadata": {},
     "output_type": "execute_result"
    },
    {
     "data": {
      "image/png": "[encoded data removed]",
      "text/plain": [
       "<Figure size 432x288 with 1 Axes>"
      ]
     },
     "metadata": {
      "needs_background": "light"
     },
     "output_type": "display_data"
    }
   ],
   "source": [
    "plt.bar(x,y,color=['violet','green','yellow','orange','navy','red','black'])\n",
    "plt.xlabel('Year')\n",
    "plt.ylabel('E-waste in metric tonnes')"
   ]
  },
  {
   "cell_type": "code",
   "execution_count": 9,
   "metadata": {},
   "outputs": [
    {
     "data": {
      "text/plain": [
       "array([ 8.69444424e+01, -5.22299681e+05,  1.04589400e+09, -6.98144682e+11])"
      ]
     },
     "execution_count": 9,
     "metadata": {},
     "output_type": "execute_result"
    }
   ],
   "source": [
    "model=np.polyfit(x,y,3)\n",
    "lin=LinearRegression()\n",
    "Rig=Ridge()\n",
    "eln=ElasticNet()\n",
    "predict = np.poly1d(model)\n",
    "model"
   ]
  },
  {
   "cell_type": "code",
   "execution_count": null,
   "metadata": {},
   "outputs": [],
   "source": []
  },
  {
   "cell_type": "code",
   "execution_count": 10,
   "metadata": {},
   "outputs": [
    {
     "data": {
      "text/plain": [
       "ElasticNet()"
      ]
     },
     "execution_count": 10,
     "metadata": {},
     "output_type": "execute_result"
    }
   ],
   "source": [
    "lin.fit(x_train,y_train)\n",
    "Rig.fit(x_train,y_train)\n",
    "eln.fit(x_train,y_train)"
   ]
  },
  {
   "cell_type": "code",
   "execution_count": 12,
   "metadata": {},
   "outputs": [
    {
     "name": "stdout",
     "output_type": "stream",
     "text": [
      "[[1102811.42857143]]\n",
      "[[1098659.81668773]]\n",
      "[1088595.06060606]\n",
      "1260226.142211914\n",
      "2769238.771118164\n"
     ]
    }
   ],
   "source": [
    "print(lin.predict([[2021]]))\n",
    "print(Rig.predict([[2021]]))\n",
    "print(eln.predict([[2021]]))\n",
    "print(predict(2021))\n",
    "print(predict(2030))"
   ]
  },
  {
   "cell_type": "markdown",
   "metadata": {},
   "source": [
    "### INFERENCE :\n",
    "the poly fit function seems to give us a much accurate result compared to the machine learning linear regression techniques which could have been predicted by observing the scatter plot.\n",
    "so the estimated E-waste seems to be 12,60,226 metric tonnes in 2021 which seems to exponentially grow to about 28,00,0000 metric tonnes per year by 2030."
   ]
  },
  {
   "cell_type": "markdown",
   "metadata": {},
   "source": [
    "-- There’s 80 times as much gold in one ton of cellphones as there is in a gold mine, says Federico Magalini, an expert on electronic waste. That means there’s enormous potential for recycling.For , one ton of mobile phones, there is usually about 350 grams of gold"
   ]
  },
  {
   "cell_type": "markdown",
   "metadata": {},
   "source": [
    "      ---https://www.theverge.com/2018/4/23/17270960/electronic-waste-urban-mining-materials-recycling\n",
    "      "
   ]
  },
  {
   "cell_type": "code",
   "execution_count": null,
   "metadata": {},
   "outputs": [],
   "source": [
    "t=(2769238.771118164*1.10231)      #tonnes to tons\n",
    "cost=670000*t                      # as of 07-09-2021 price of 200gm of gold in india in rupees is about 670000 \n",
    "cost "
   ]
  },
  {
   "cell_type": "markdown",
   "metadata": {},
   "source": [
    "considering an average of 200 gm of gold to be retrieved by recycling 1 ton of E-waste by the year 2030(not considering inflation and price change of gold)\n",
    "generates a total sum of about 27,850 million dollars by our calculation . \n",
    "hence large revenues could be collected by recycling E-waste and indeed recovering the metal scrap and gold in it .\n",
    "unfortunately conservative mindsets and lack of proper infrastructure for efficient recycling of E-waste make the process of E-waste recycling unpopular in India."
   ]
  },
  {
   "cell_type": "code",
   "execution_count": 26,
   "metadata": {},
   "outputs": [
    {
     "data": {
      "text/plain": [
       "[2021, 2022, 2023, 2024, 2025, 2026, 2027, 2028, 2029, 2030, 2031]"
      ]
     },
     "execution_count": 26,
     "metadata": {},
     "output_type": "execute_result"
    }
   ],
   "source": [
    "lst=list(range(2021,2032))\n",
    "lst"
   ]
  },
  {
   "cell_type": "code",
   "execution_count": 28,
   "metadata": {},
   "outputs": [
    {
     "data": {
      "text/plain": [
       "[1260226.142211914,\n",
       " 1382182.8712158203,\n",
       " 1514350.2133789062,\n",
       " 1657249.8350830078,\n",
       " 1811403.4029541016,\n",
       " 1977332.583984375,\n",
       " 2155559.0446777344,\n",
       " 2346604.451538086,\n",
       " 2550990.471435547,\n",
       " 2769238.771118164,\n",
       " 3001871.016845703]"
      ]
     },
     "execution_count": 28,
     "metadata": {},
     "output_type": "execute_result"
    }
   ],
   "source": [
    "lst2=[]\n",
    "for i in lst:\n",
    "    lst2.append(predict(i))\n",
    "lst2"
   ]
  },
  {
   "cell_type": "code",
   "execution_count": 30,
   "metadata": {},
   "outputs": [
    {
     "data": {
      "text/plain": [
       "Text(0, 0.5, 'metric tonnes of E-waste')"
      ]
     },
     "execution_count": 30,
     "metadata": {},
     "output_type": "execute_result"
    },
    {
     "data": {
      "image/png": "[encoded data removed]",
      "text/plain": [
       "<Figure size 432x288 with 1 Axes>"
      ]
     },
     "metadata": {
      "needs_background": "light"
     },
     "output_type": "display_data"
    }
   ],
   "source": [
    "plt.bar(lst,lst2,width=0.25,color=\"navy\")\n",
    "plt.xlabel(\"Years\")\n",
    "plt.ylabel(\"metric tonnes of E-waste\")"
   ]
  },
  {
   "cell_type": "markdown",
   "metadata": {},
   "source": [
    "above is the predicted graph of e-waste growth which has the potential to increase the revenue by a significnt percent and indeed also contribute to India's GDP by a good decimal percentage"
   ]
  },
  {
   "cell_type": "code",
   "execution_count": null,
   "metadata": {},
   "outputs": [],
   "source": []
  }
 ],
 "metadata": {
  "kernelspec": {
   "display_name": "Python 3",
   "language": "python",
   "name": "python3"
  },
  "language_info": {
   "codemirror_mode": {
    "name": "ipython",
    "version": 3
   },
   "file_extension": ".py",
   "mimetype": "text/x-python",
   "name": "python",
   "nbconvert_exporter": "python",
   "pygments_lexer": "ipython3",
   "version": "3.8.5"
  }
 },
 "nbformat": 4,
 "nbformat_minor": 4
}
